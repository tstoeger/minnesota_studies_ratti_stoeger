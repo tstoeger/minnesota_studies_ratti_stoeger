{
 "cells": [
  {
   "cell_type": "code",
   "execution_count": null,
   "metadata": {},
   "outputs": [],
   "source": [
    "%matplotlib inline\n",
    "%reload_ext autoreload\n",
    "%autoreload 2\n",
    "\n",
    "import matplotlib as mpl\n",
    "mpl.rcParams['pdf.fonttype'] = 42\n",
    "mpl.rcParams['font.family'] = 'Arial'"
   ]
  },
  {
   "cell_type": "code",
   "execution_count": null,
   "metadata": {},
   "outputs": [],
   "source": [
    "from IPython.core.display import display, HTML\n",
    "display(HTML(\"<style>.container { width:80% !important; }</style>\"))"
   ]
  },
  {
   "cell_type": "code",
   "execution_count": null,
   "metadata": {},
   "outputs": [],
   "source": [
    "import matplotlib.pyplot as plt"
   ]
  },
  {
   "cell_type": "code",
   "execution_count": null,
   "metadata": {},
   "outputs": [],
   "source": [
    "import os\n",
    "import sys\n",
    "\n",
    "import numpy as np\n",
    "import pandas as pd\n",
    "import seaborn as sns\n",
    "\n",
    "from scipy.stats import spearmanr\n",
    "import matplotlib.pyplot as plt\n",
    "\n",
    "from access_biology_data import meta, gwas_studies, relations\n",
    "from access_literature_data import medline, wos\n",
    "from access_science_shared import standardizer\n",
    "\n",
    "from scipy.stats import wilcoxon"
   ]
  },
  {
   "cell_type": "code",
   "execution_count": null,
   "metadata": {},
   "outputs": [],
   "source": []
  },
  {
   "cell_type": "code",
   "execution_count": null,
   "metadata": {},
   "outputs": [],
   "source": [
    "save_images = False\n",
    "taxon_id = 9606"
   ]
  },
  {
   "cell_type": "code",
   "execution_count": null,
   "metadata": {},
   "outputs": [],
   "source": [
    "def export_image(file_name):\n",
    "    outpath = '/Users/tstoeger/Dropbox/ratti/material/{}.pdf'.format(file_name)\n",
    "    \n",
    "    if save_images:\n",
    "        plt.savefig(outpath, bbox_inches='tight')"
   ]
  },
  {
   "cell_type": "code",
   "execution_count": null,
   "metadata": {},
   "outputs": [],
   "source": []
  },
  {
   "cell_type": "code",
   "execution_count": null,
   "metadata": {},
   "outputs": [],
   "source": []
  },
  {
   "cell_type": "code",
   "execution_count": null,
   "metadata": {},
   "outputs": [],
   "source": [
    "all_gene_info = meta.gene_info(9606, ['gene_ncbi', 'symbol_ncbi', 'type_of_gene'])\n",
    "all_gene_info = all_gene_info.drop_duplicates('symbol_ncbi', keep=False)   # NCG uses symbols that can ambiguous\n",
    "all_gene_info = all_gene_info[all_gene_info['type_of_gene']=='protein-coding'].drop('type_of_gene', 1)"
   ]
  },
  {
   "cell_type": "code",
   "execution_count": null,
   "metadata": {},
   "outputs": [],
   "source": [
    "g2p = medline.gene2pubmed(taxon_id='all', paper_kind='research').drop_duplicates()"
   ]
  },
  {
   "cell_type": "code",
   "execution_count": null,
   "metadata": {},
   "outputs": [],
   "source": [
    "g2p = pd.merge(\n",
    "    g2p, \n",
    "    (1 / g2p['pubmed_id'].value_counts()).to_frame('attention').rename_axis('pubmed_id').reset_index())\n",
    "\n",
    "g2p.loc[:, 'papers'] = 1"
   ]
  },
  {
   "cell_type": "code",
   "execution_count": null,
   "metadata": {},
   "outputs": [],
   "source": [
    "years = medline.select_medline_records(\n",
    "        columns_sql='''\n",
    "            medline.pubmed_id,\n",
    "            medline.pubdate_year''',\n",
    "        taxon_id=None,\n",
    "        kind='research')"
   ]
  },
  {
   "cell_type": "code",
   "execution_count": null,
   "metadata": {},
   "outputs": [],
   "source": [
    "literature = pd.merge(g2p, years)\n",
    "literature = literature[literature['pubdate_year'].isin(range(1980, 2016))]\n",
    "literature = literature[literature['taxon_ncbi']==taxon_id]\n",
    "literature = literature.drop('taxon_ncbi', 1)"
   ]
  },
  {
   "cell_type": "code",
   "execution_count": null,
   "metadata": {},
   "outputs": [],
   "source": [
    "total_annual_literature = literature[\n",
    "    ['pubdate_year', 'attention']].groupby('pubdate_year').agg(sum).rename(\n",
    "    columns={'attention': 'annual_attention'}\n",
    ").reset_index()"
   ]
  },
  {
   "cell_type": "code",
   "execution_count": null,
   "metadata": {},
   "outputs": [],
   "source": [
    "\n",
    "fame_per_gene_per_year = literature[\n",
    "    ['gene_ncbi', 'pubdate_year', 'attention', 'papers']\n",
    "].groupby(['gene_ncbi', 'pubdate_year']).agg(sum).reset_index()\n",
    "\n",
    "fame_per_gene_per_year = pd.merge(\n",
    "    fame_per_gene_per_year,\n",
    "    total_annual_literature\n",
    ")\n",
    "\n",
    "fame_per_gene_per_year.loc[:, 'attention_share'] = fame_per_gene_per_year[\n",
    "    'attention'] / fame_per_gene_per_year['annual_attention']"
   ]
  },
  {
   "cell_type": "code",
   "execution_count": null,
   "metadata": {},
   "outputs": [],
   "source": [
    "p = '/Users/tstoeger/Dropbox/ratti/data/network_of_cancer_genes/ncg6_0/cancergenes_list.txt'\n",
    "df_ncg = pd.read_csv(p, '\\t')"
   ]
  },
  {
   "cell_type": "code",
   "execution_count": null,
   "metadata": {},
   "outputs": [],
   "source": [
    "cancer_genes = all_gene_info[all_gene_info['symbol_ncbi'].isin(df_ncg['711_Known_Cancer_Genes'])]"
   ]
  },
  {
   "cell_type": "code",
   "execution_count": null,
   "metadata": {},
   "outputs": [],
   "source": []
  },
  {
   "cell_type": "code",
   "execution_count": null,
   "metadata": {},
   "outputs": [],
   "source": [
    "mega = pd.merge(\n",
    "    cancer_genes,\n",
    "    fame_per_gene_per_year[['pubdate_year', 'gene_ncbi', 'attention', 'attention_share', 'papers']]\n",
    ")"
   ]
  },
  {
   "cell_type": "code",
   "execution_count": null,
   "metadata": {},
   "outputs": [],
   "source": [
    "m = mega.copy()\n",
    "m.loc[:, 'before'] = m['pubdate_year'] < 2009\n",
    "m = m[['before', 'papers', 'symbol_ncbi']\n",
    "        ].groupby(['before', 'symbol_ncbi']).agg(\n",
    "    sum).reset_index()\n",
    "\n",
    "h = m.pivot(index='symbol_ncbi', columns='before', values='papers')\n",
    "h.columns = [str(int(x)) for x in h.columns]\n",
    "h = h.rename(columns={'1': 'until 2008', '0': '2009-2015'})\n",
    "\n",
    "plt.figure(figsize=(5, 5))\n",
    "\n",
    "plt.scatter(\n",
    "    np.log10(h.loc[:, 'until 2008']), \n",
    "    np.log10(h.loc[:, '2009-2015']), s=10)\n",
    "\n",
    "plt.xlabel('1980-2008, log10 publications', fontsize=20)\n",
    "plt.ylabel('2009-2015, log10 publications', fontsize=20)\n",
    "\n",
    "\n",
    "export_image('publications')"
   ]
  },
  {
   "cell_type": "code",
   "execution_count": null,
   "metadata": {},
   "outputs": [],
   "source": [
    "h.corr('spearman')"
   ]
  },
  {
   "cell_type": "code",
   "execution_count": null,
   "metadata": {},
   "outputs": [],
   "source": [
    "h.loc[:, 'is_IDH1'] = h.index.isin(\n",
    "    [\n",
    "        'IDH1', \n",
    "        'IDH2'\n",
    "    ]\n",
    "    \n",
    ")"
   ]
  },
  {
   "cell_type": "code",
   "execution_count": null,
   "metadata": {},
   "outputs": [],
   "source": [
    "\n",
    "plt.scatter(\n",
    "    np.log10(h.loc[:, 'until 2008']), \n",
    "    np.log10(h.loc[:, '2009-2015']), \n",
    "    s=10,\n",
    "    c=h['is_IDH1']\n",
    ")"
   ]
  },
  {
   "cell_type": "code",
   "execution_count": null,
   "metadata": {},
   "outputs": [],
   "source": [
    "h[\n",
    "    (h['2009-2015']>100) &\n",
    "    (h['until 2008']<10**1.5)\n",
    "].sort_values('until 2008')"
   ]
  },
  {
   "cell_type": "code",
   "execution_count": null,
   "metadata": {},
   "outputs": [],
   "source": [
    " "
   ]
  },
  {
   "cell_type": "code",
   "execution_count": null,
   "metadata": {},
   "outputs": [],
   "source": []
  },
  {
   "cell_type": "code",
   "execution_count": null,
   "metadata": {},
   "outputs": [],
   "source": []
  },
  {
   "cell_type": "code",
   "execution_count": null,
   "metadata": {},
   "outputs": [],
   "source": []
  },
  {
   "cell_type": "code",
   "execution_count": null,
   "metadata": {},
   "outputs": [],
   "source": [
    "# if save_images:\n",
    "#     ret.export_full_frame('{}/inspect_paper_format.xlsx'.format(export_base), h, save_index=False)"
   ]
  },
  {
   "cell_type": "code",
   "execution_count": null,
   "metadata": {},
   "outputs": [],
   "source": [
    "m = mega.copy()\n",
    "m = m[['gene_ncbi', 'symbol_ncbi', 'pubdate_year', 'attention_share']]\n",
    "g = m.pivot(index='symbol_ncbi', columns='pubdate_year', values='attention_share')\n",
    "\n",
    "y= [x for x in range(1980, 2016)]\n",
    "g = g.loc[:, y].fillna(0)\n",
    "\n",
    "\n",
    "u = np.log2(g[y]/(1/all_gene_info.shape[0]))\n",
    "\n",
    "u[u<-5] = -10\n",
    "u[u>10] = 10\n",
    "\n",
    "sns.clustermap(\n",
    "    u, \n",
    "    col_cluster=False,\n",
    "    cmap='bwr',\n",
    "    method='ward',\n",
    "    vmin=-5,\n",
    "    vmax=5,\n",
    "    yticklabels=True\n",
    ")"
   ]
  },
  {
   "cell_type": "code",
   "execution_count": null,
   "metadata": {},
   "outputs": [],
   "source": []
  },
  {
   "cell_type": "code",
   "execution_count": null,
   "metadata": {},
   "outputs": [],
   "source": [
    "m = mega.copy()\n",
    "\n",
    "y = [1980, 1985, 1990, 1995, 2000, 2005, 2010]\n",
    "\n",
    "for yy in y:\n",
    "    f = m['pubdate_year'].isin(range(yy, yy+5))\n",
    "    m.loc[f, 'decade'] = yy\n",
    "\n",
    "m = m[['gene_ncbi', 'symbol_ncbi', 'decade', 'attention_share']].groupby(\n",
    "    ['gene_ncbi', 'symbol_ncbi', 'decade']\n",
    ").agg(np.median).reset_index()\n",
    "\n",
    "g = m.pivot(index='symbol_ncbi', columns='decade', values='attention_share')\n",
    "\n",
    "g = g.loc[:, y].fillna(0)\n",
    "\n",
    "\n",
    "all_gene_info.shape\n",
    "\n",
    "u = np.log2(g[y]/(1/all_gene_info.shape[0]))\n",
    "\n",
    "u[u<-5] = -10\n",
    "u[u>10] = 10\n",
    "\n",
    "sns.clustermap(\n",
    "    u, \n",
    "    col_cluster=False,\n",
    "    cmap='bwr',\n",
    "    method='ward',\n",
    "    vmin=-6,\n",
    "    vmax=6,\n",
    "    yticklabels=True\n",
    ")\n",
    "\n",
    "# export_image('share_in_years')\n",
    "\n"
   ]
  },
  {
   "cell_type": "code",
   "execution_count": null,
   "metadata": {},
   "outputs": [],
   "source": [
    "sns.clustermap(\n",
    "    u, \n",
    "    col_cluster=False,\n",
    "    cmap='OrRd',\n",
    "    method='ward',\n",
    "    vmin=0,\n",
    "    vmax=6,\n",
    "    yticklabels=False\n",
    ")\n",
    "\n",
    "export_image('share_in_years_gradual')"
   ]
  },
  {
   "cell_type": "code",
   "execution_count": null,
   "metadata": {},
   "outputs": [],
   "source": [
    "raise AssertionError('stop here')"
   ]
  },
  {
   "cell_type": "code",
   "execution_count": null,
   "metadata": {},
   "outputs": [],
   "source": []
  },
  {
   "cell_type": "code",
   "execution_count": null,
   "metadata": {},
   "outputs": [],
   "source": [
    "(u>0).any(1).mean()"
   ]
  },
  {
   "cell_type": "code",
   "execution_count": null,
   "metadata": {},
   "outputs": [],
   "source": [
    "(u[2010]>0).mean()"
   ]
  },
  {
   "cell_type": "code",
   "execution_count": null,
   "metadata": {},
   "outputs": [],
   "source": []
  },
  {
   "cell_type": "code",
   "execution_count": null,
   "metadata": {},
   "outputs": [],
   "source": []
  },
  {
   "cell_type": "code",
   "execution_count": null,
   "metadata": {},
   "outputs": [],
   "source": []
  },
  {
   "cell_type": "code",
   "execution_count": null,
   "metadata": {},
   "outputs": [],
   "source": []
  },
  {
   "cell_type": "code",
   "execution_count": null,
   "metadata": {},
   "outputs": [],
   "source": [
    "gm = g.copy()"
   ]
  },
  {
   "cell_type": "code",
   "execution_count": null,
   "metadata": {},
   "outputs": [],
   "source": [
    "gm.loc[:, 'highest'] = 0"
   ]
  },
  {
   "cell_type": "code",
   "execution_count": null,
   "metadata": {},
   "outputs": [],
   "source": [
    "for c in y:\n",
    "    f = gm[c] >= gm['highest']\n",
    "    gm.loc[f, 'decade'] = c\n",
    "    gm.loc[f, 'highest'] = gm.loc[f, c]"
   ]
  },
  {
   "cell_type": "code",
   "execution_count": null,
   "metadata": {},
   "outputs": [],
   "source": [
    "gm['decade'].value_counts()"
   ]
  },
  {
   "cell_type": "code",
   "execution_count": null,
   "metadata": {},
   "outputs": [],
   "source": [
    "co = gm['decade'].value_counts() \n",
    "\n",
    "co/ co.sum()"
   ]
  },
  {
   "cell_type": "code",
   "execution_count": null,
   "metadata": {},
   "outputs": [],
   "source": [
    "(co[1980] + co[1985] + co[1990] + co[1995]) / co.sum()"
   ]
  },
  {
   "cell_type": "code",
   "execution_count": null,
   "metadata": {},
   "outputs": [],
   "source": [
    "cs = co.sort_index()"
   ]
  },
  {
   "cell_type": "code",
   "execution_count": null,
   "metadata": {},
   "outputs": [],
   "source": [
    "cs"
   ]
  },
  {
   "cell_type": "code",
   "execution_count": null,
   "metadata": {},
   "outputs": [],
   "source": [
    "cs / cs.sum()"
   ]
  },
  {
   "cell_type": "code",
   "execution_count": null,
   "metadata": {},
   "outputs": [],
   "source": []
  },
  {
   "cell_type": "code",
   "execution_count": null,
   "metadata": {},
   "outputs": [],
   "source": [
    "labels = list(cs.index)\n",
    "sizes = list(cs.values)\n",
    "colors = ['yellowgreen', 'gold', 'lightskyblue', 'lightcoral', 'blue', 'green', 'brown']\n",
    "patches, texts = plt.pie(sizes, colors=colors, shadow=False, startangle=90)\n",
    "plt.legend(patches, labels, loc=\"best\")\n",
    "plt.axis('equal')\n",
    "plt.tight_layout()\n",
    "\n",
    "\n",
    "# export_image('circle_annual_contribution')"
   ]
  },
  {
   "cell_type": "code",
   "execution_count": null,
   "metadata": {},
   "outputs": [],
   "source": []
  },
  {
   "cell_type": "code",
   "execution_count": null,
   "metadata": {},
   "outputs": [],
   "source": []
  },
  {
   "cell_type": "code",
   "execution_count": null,
   "metadata": {},
   "outputs": [],
   "source": []
  },
  {
   "cell_type": "code",
   "execution_count": null,
   "metadata": {},
   "outputs": [],
   "source": []
  },
  {
   "cell_type": "code",
   "execution_count": null,
   "metadata": {},
   "outputs": [],
   "source": [
    "0.260993 "
   ]
  },
  {
   "cell_type": "code",
   "execution_count": null,
   "metadata": {},
   "outputs": [],
   "source": []
  },
  {
   "cell_type": "code",
   "execution_count": null,
   "metadata": {
    "scrolled": true
   },
   "outputs": [],
   "source": [
    "m = mega.copy()\n",
    "\n",
    "m['decade'] = m['pubdate_year'].apply(lambda x: np.floor(x/10)*10)\n",
    "\n",
    "m = m[['gene_ncbi', 'symbol_ncbi', 'decade', 'attention_share']].groupby(\n",
    "    ['gene_ncbi', 'symbol_ncbi', 'decade']\n",
    ").agg(np.median).reset_index()\n",
    "\n",
    "g = m.pivot(index='symbol_ncbi', columns='decade', values='attention_share')\n",
    "g = g.loc[:, [1980, 1990, 2000, 2010]].fillna(0)\n",
    "\n",
    "all_gene_info.shape\n",
    "\n",
    "u = np.log2(g[[1980, 1990, 2000, 2010]]/(1/all_gene_info.shape[0]))\n",
    "\n",
    "u[u<-5] = -10\n",
    "u[u>10] = 10\n",
    "\n",
    "sns.clustermap(\n",
    "    u, \n",
    "    col_cluster=False,\n",
    "    cmap='bwr',\n",
    "    method='ward',\n",
    "    vmin=-5,\n",
    "    vmax=5,\n",
    "    yticklabels=True\n",
    ")"
   ]
  },
  {
   "cell_type": "code",
   "execution_count": null,
   "metadata": {},
   "outputs": [],
   "source": []
  },
  {
   "cell_type": "code",
   "execution_count": null,
   "metadata": {},
   "outputs": [],
   "source": []
  },
  {
   "cell_type": "code",
   "execution_count": null,
   "metadata": {},
   "outputs": [],
   "source": []
  },
  {
   "cell_type": "code",
   "execution_count": null,
   "metadata": {},
   "outputs": [],
   "source": []
  },
  {
   "cell_type": "code",
   "execution_count": null,
   "metadata": {},
   "outputs": [],
   "source": [
    "sns.clustermap(\n",
    "    g[[1980, 1990, 2000, 2010]].apply(lambda x: np.log10(x+0.00001)), \n",
    "    col_cluster=False,\n",
    "    cmap='OrRd',\n",
    "    method='ward')\n",
    " \n"
   ]
  },
  {
   "cell_type": "code",
   "execution_count": null,
   "metadata": {},
   "outputs": [],
   "source": []
  },
  {
   "cell_type": "code",
   "execution_count": null,
   "metadata": {},
   "outputs": [],
   "source": []
  },
  {
   "cell_type": "code",
   "execution_count": null,
   "metadata": {},
   "outputs": [],
   "source": []
  },
  {
   "cell_type": "code",
   "execution_count": null,
   "metadata": {},
   "outputs": [],
   "source": []
  },
  {
   "cell_type": "code",
   "execution_count": null,
   "metadata": {},
   "outputs": [],
   "source": []
  }
 ],
 "metadata": {
  "kernelspec": {
   "display_name": "Python 3",
   "language": "python",
   "name": "python3"
  },
  "language_info": {
   "codemirror_mode": {
    "name": "ipython",
    "version": 3
   },
   "file_extension": ".py",
   "mimetype": "text/x-python",
   "name": "python",
   "nbconvert_exporter": "python",
   "pygments_lexer": "ipython3",
   "version": "3.7.7"
  }
 },
 "nbformat": 4,
 "nbformat_minor": 2
}
