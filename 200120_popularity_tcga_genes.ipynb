{
 "cells": [
  {
   "cell_type": "code",
   "execution_count": 1,
   "metadata": {},
   "outputs": [],
   "source": [
    "%matplotlib inline\n",
    "%reload_ext autoreload\n",
    "%autoreload 2\n",
    "\n",
    "import matplotlib as mpl\n",
    "mpl.rcParams['pdf.fonttype'] = 42\n",
    "mpl.rcParams['font.family'] = 'Arial'\n",
    "\n",
    "import pandas as pd\n",
    "\n",
    "from scipy.stats import mannwhitneyu, wilcoxon\n",
    "\n",
    "from access_science_shared import standardizer\n",
    "from access_literature_data import medline"
   ]
  },
  {
   "cell_type": "code",
   "execution_count": 2,
   "metadata": {},
   "outputs": [],
   "source": [
    "save_fig = True"
   ]
  },
  {
   "cell_type": "code",
   "execution_count": 3,
   "metadata": {},
   "outputs": [],
   "source": [
    "ref_genes = standardizer.reference_genes(9606, 'orp')"
   ]
  },
  {
   "cell_type": "code",
   "execution_count": 4,
   "metadata": {},
   "outputs": [],
   "source": [
    "df_m = medline.select_medline_records(\n",
    "    columns_sql='''\n",
    "        medline.pubmed_id,\n",
    "        medline.pubdate_year''',\n",
    "    taxon_id='all',\n",
    "    kind='research',\n",
    ")\n"
   ]
  },
  {
   "cell_type": "code",
   "execution_count": 5,
   "metadata": {},
   "outputs": [],
   "source": [
    "gene2pubmed = medline.gene2pubmed(9606, paper_kind='research', ref_genes=ref_genes)"
   ]
  },
  {
   "cell_type": "code",
   "execution_count": 6,
   "metadata": {},
   "outputs": [],
   "source": [
    "gene2pubmed = pd.merge(gene2pubmed, df_m)"
   ]
  },
  {
   "cell_type": "code",
   "execution_count": 7,
   "metadata": {},
   "outputs": [],
   "source": [
    "gene2pubmed = gene2pubmed[gene2pubmed['pubdate_year'].isin(range(1980, 2016))]"
   ]
  },
  {
   "cell_type": "code",
   "execution_count": 8,
   "metadata": {},
   "outputs": [],
   "source": [
    "t = pd.concat(\n",
    "    [\n",
    "    gene2pubmed[gene2pubmed['pubdate_year']<=2008]['gene_ncbi'].value_counts().to_frame('before'),\n",
    "    gene2pubmed[gene2pubmed['pubdate_year'].isin(range(2009, 2016))]['gene_ncbi'].value_counts().to_frame('now'),    \n",
    "        \n",
    "    ], axis=1).reindex(ref_genes).fillna(0).rename_axis('gene_ncbi')\n",
    "    "
   ]
  },
  {
   "cell_type": "code",
   "execution_count": 9,
   "metadata": {},
   "outputs": [],
   "source": [
    "p = '/Users/tstoeger/Desktop/tcga_2008/41586_2008_BFnature07385_MOESM265_ESM.xls'"
   ]
  },
  {
   "cell_type": "code",
   "execution_count": 10,
   "metadata": {},
   "outputs": [],
   "source": [
    "df = pd.read_excel(p, sheet_name='Table S6 - Mutation table')"
   ]
  },
  {
   "cell_type": "code",
   "execution_count": 11,
   "metadata": {},
   "outputs": [],
   "source": [
    "tp = t.rank(pct=True) * 100"
   ]
  },
  {
   "cell_type": "code",
   "execution_count": 12,
   "metadata": {},
   "outputs": [],
   "source": [
    "tp.loc[:, 'found'] = tp.index.isin(df['Entrez_Gene_Id'])"
   ]
  },
  {
   "cell_type": "code",
   "execution_count": 13,
   "metadata": {},
   "outputs": [],
   "source": [
    "m = tp[tp['found']==True]"
   ]
  },
  {
   "cell_type": "code",
   "execution_count": 14,
   "metadata": {},
   "outputs": [],
   "source": [
    "import matplotlib.pyplot as plt"
   ]
  },
  {
   "cell_type": "code",
   "execution_count": 15,
   "metadata": {},
   "outputs": [
    {
     "data": {
      "text/plain": [
       "(223, 3)"
      ]
     },
     "execution_count": 15,
     "metadata": {},
     "output_type": "execute_result"
    }
   ],
   "source": [
    "m.shape"
   ]
  },
  {
   "cell_type": "code",
   "execution_count": 16,
   "metadata": {},
   "outputs": [
    {
     "data": {
      "text/html": [
       "<div>\n",
       "<style scoped>\n",
       "    .dataframe tbody tr th:only-of-type {\n",
       "        vertical-align: middle;\n",
       "    }\n",
       "\n",
       "    .dataframe tbody tr th {\n",
       "        vertical-align: top;\n",
       "    }\n",
       "\n",
       "    .dataframe thead th {\n",
       "        text-align: right;\n",
       "    }\n",
       "</style>\n",
       "<table border=\"1\" class=\"dataframe\">\n",
       "  <thead>\n",
       "    <tr style=\"text-align: right;\">\n",
       "      <th></th>\n",
       "      <th>before</th>\n",
       "      <th>now</th>\n",
       "      <th>found</th>\n",
       "    </tr>\n",
       "    <tr>\n",
       "      <th>gene_ncbi</th>\n",
       "      <th></th>\n",
       "      <th></th>\n",
       "      <th></th>\n",
       "    </tr>\n",
       "  </thead>\n",
       "  <tbody>\n",
       "    <tr>\n",
       "      <th>7157</th>\n",
       "      <td>100.000000</td>\n",
       "      <td>100.000000</td>\n",
       "      <td>True</td>\n",
       "    </tr>\n",
       "    <tr>\n",
       "      <th>1956</th>\n",
       "      <td>99.968797</td>\n",
       "      <td>99.994800</td>\n",
       "      <td>True</td>\n",
       "    </tr>\n",
       "    <tr>\n",
       "      <th>2064</th>\n",
       "      <td>99.791981</td>\n",
       "      <td>99.937594</td>\n",
       "      <td>True</td>\n",
       "    </tr>\n",
       "    <tr>\n",
       "      <th>6774</th>\n",
       "      <td>99.667169</td>\n",
       "      <td>99.916792</td>\n",
       "      <td>True</td>\n",
       "    </tr>\n",
       "    <tr>\n",
       "      <th>3845</th>\n",
       "      <td>99.230329</td>\n",
       "      <td>99.911592</td>\n",
       "      <td>True</td>\n",
       "    </tr>\n",
       "  </tbody>\n",
       "</table>\n",
       "</div>"
      ],
      "text/plain": [
       "               before         now  found\n",
       "gene_ncbi                               \n",
       "7157       100.000000  100.000000   True\n",
       "1956        99.968797   99.994800   True\n",
       "2064        99.791981   99.937594   True\n",
       "6774        99.667169   99.916792   True\n",
       "3845        99.230329   99.911592   True"
      ]
     },
     "execution_count": 16,
     "metadata": {},
     "output_type": "execute_result"
    }
   ],
   "source": [
    "m.sort_values('now', ascending=False).head()"
   ]
  },
  {
   "cell_type": "code",
   "execution_count": 17,
   "metadata": {},
   "outputs": [
    {
     "data": {
      "image/png": "[encoded data removed]",
      "text/plain": [
       "<Figure size 360x360 with 1 Axes>"
      ]
     },
     "metadata": {
      "needs_background": "light"
     },
     "output_type": "display_data"
    }
   ],
   "source": [
    "plt.figure(figsize=(5, 5))\n",
    "plt.plot([0, 100], [0, 100], ls=\"--\", c=\".3\")\n",
    "plt.scatter(m['before'], m['now'])\n",
    "\n",
    "\n",
    "plt.xlabel('Until 2008')\n",
    "plt.ylabel('After 2008')\n",
    "plt.xlim(0, 100)\n",
    "plt.ylim(0, 100)\n",
    "\n",
    "if save_fig:\n",
    "    plt.savefig('/Users/tstoeger/Dropbox/ratti/material/tcga_genes.pdf', bbox_inches='tight')"
   ]
  },
  {
   "cell_type": "code",
   "execution_count": 18,
   "metadata": {},
   "outputs": [
    {
     "data": {
      "text/plain": [
       "before    50.629258\n",
       "now       51.102501\n",
       "found      0.000000\n",
       "dtype: float64"
      ]
     },
     "execution_count": 18,
     "metadata": {},
     "output_type": "execute_result"
    }
   ],
   "source": [
    "tp.median()"
   ]
  },
  {
   "cell_type": "code",
   "execution_count": 19,
   "metadata": {},
   "outputs": [
    {
     "data": {
      "text/plain": [
       "WilcoxonResult(statistic=91860888.0, pvalue=0.4795519102082899)"
      ]
     },
     "execution_count": 19,
     "metadata": {},
     "output_type": "execute_result"
    }
   ],
   "source": [
    "wilcoxon(tp['before'], tp['now'])"
   ]
  },
  {
   "cell_type": "code",
   "execution_count": 20,
   "metadata": {},
   "outputs": [
    {
     "data": {
      "text/plain": [
       "before    92.142077\n",
       "now       91.772843\n",
       "found      1.000000\n",
       "dtype: float64"
      ]
     },
     "execution_count": 20,
     "metadata": {},
     "output_type": "execute_result"
    }
   ],
   "source": [
    "tp[tp['found']==True].median()"
   ]
  },
  {
   "cell_type": "code",
   "execution_count": null,
   "metadata": {},
   "outputs": [],
   "source": []
  },
  {
   "cell_type": "code",
   "execution_count": 23,
   "metadata": {},
   "outputs": [
    {
     "data": {
      "text/html": [
       "<div>\n",
       "<style scoped>\n",
       "    .dataframe tbody tr th:only-of-type {\n",
       "        vertical-align: middle;\n",
       "    }\n",
       "\n",
       "    .dataframe tbody tr th {\n",
       "        vertical-align: top;\n",
       "    }\n",
       "\n",
       "    .dataframe thead th {\n",
       "        text-align: right;\n",
       "    }\n",
       "</style>\n",
       "<table border=\"1\" class=\"dataframe\">\n",
       "  <thead>\n",
       "    <tr style=\"text-align: right;\">\n",
       "      <th></th>\n",
       "      <th>gene_ncbi</th>\n",
       "      <th>before</th>\n",
       "      <th>now</th>\n",
       "      <th>found</th>\n",
       "      <th>Hugo_Symbol</th>\n",
       "    </tr>\n",
       "  </thead>\n",
       "  <tbody>\n",
       "    <tr>\n",
       "      <th>2</th>\n",
       "      <td>23239</td>\n",
       "      <td>50.629258</td>\n",
       "      <td>88.683759</td>\n",
       "      <td>True</td>\n",
       "      <td>PHLPP</td>\n",
       "    </tr>\n",
       "    <tr>\n",
       "      <th>5</th>\n",
       "      <td>51592</td>\n",
       "      <td>60.135732</td>\n",
       "      <td>88.111706</td>\n",
       "      <td>True</td>\n",
       "      <td>TRIM33</td>\n",
       "    </tr>\n",
       "    <tr>\n",
       "      <th>0</th>\n",
       "      <td>6664</td>\n",
       "      <td>66.974362</td>\n",
       "      <td>86.473556</td>\n",
       "      <td>True</td>\n",
       "      <td>SOX11</td>\n",
       "    </tr>\n",
       "    <tr>\n",
       "      <th>6</th>\n",
       "      <td>386653</td>\n",
       "      <td>46.502678</td>\n",
       "      <td>84.182745</td>\n",
       "      <td>True</td>\n",
       "      <td>IL31</td>\n",
       "    </tr>\n",
       "    <tr>\n",
       "      <th>4</th>\n",
       "      <td>26038</td>\n",
       "      <td>54.199386</td>\n",
       "      <td>78.919861</td>\n",
       "      <td>True</td>\n",
       "      <td>CHD5</td>\n",
       "    </tr>\n",
       "    <tr>\n",
       "      <th>1</th>\n",
       "      <td>10752</td>\n",
       "      <td>60.135732</td>\n",
       "      <td>77.362317</td>\n",
       "      <td>True</td>\n",
       "      <td>CHL1</td>\n",
       "    </tr>\n",
       "    <tr>\n",
       "      <th>3</th>\n",
       "      <td>23321</td>\n",
       "      <td>50.629258</td>\n",
       "      <td>76.504238</td>\n",
       "      <td>True</td>\n",
       "      <td>TRIM2</td>\n",
       "    </tr>\n",
       "  </tbody>\n",
       "</table>\n",
       "</div>"
      ],
      "text/plain": [
       "   gene_ncbi     before        now  found Hugo_Symbol\n",
       "2      23239  50.629258  88.683759   True       PHLPP\n",
       "5      51592  60.135732  88.111706   True      TRIM33\n",
       "0       6664  66.974362  86.473556   True       SOX11\n",
       "6     386653  46.502678  84.182745   True        IL31\n",
       "4      26038  54.199386  78.919861   True        CHD5\n",
       "1      10752  60.135732  77.362317   True        CHL1\n",
       "3      23321  50.629258  76.504238   True       TRIM2"
      ]
     },
     "execution_count": 23,
     "metadata": {},
     "output_type": "execute_result"
    }
   ],
   "source": [
    "pd.merge(\n",
    "    tp[\n",
    "        (tp['before']<70) &\n",
    "        (tp['now']>75) &\n",
    "        (tp['found']==True)\n",
    "    ].reset_index(),\n",
    "    df[['Hugo_Symbol', 'Entrez_Gene_Id']].rename(\n",
    "        columns={'Entrez_Gene_Id': 'gene_ncbi'}).drop_duplicates()).sort_values('now', ascending=False)"
   ]
  },
  {
   "cell_type": "code",
   "execution_count": null,
   "metadata": {},
   "outputs": [],
   "source": []
  }
 ],
 "metadata": {
  "kernelspec": {
   "display_name": "Python 3",
   "language": "python",
   "name": "python3"
  },
  "language_info": {
   "codemirror_mode": {
    "name": "ipython",
    "version": 3
   },
   "file_extension": ".py",
   "mimetype": "text/x-python",
   "name": "python",
   "nbconvert_exporter": "python",
   "pygments_lexer": "ipython3",
   "version": "3.7.3"
  }
 },
 "nbformat": 4,
 "nbformat_minor": 2
}
